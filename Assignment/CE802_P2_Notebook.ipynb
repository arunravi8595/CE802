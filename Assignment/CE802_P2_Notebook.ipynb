{
  "nbformat": 4,
  "nbformat_minor": 0,
  "metadata": {
    "colab": {
      "name": "CE802_P2_Notebook.ipynb",
      "provenance": [],
      "authorship_tag": "ABX9TyNOJZ8QcRXMZAcMRk/h7N6g",
      "include_colab_link": true
    },
    "kernelspec": {
      "name": "python3",
      "display_name": "Python 3"
    },
    "language_info": {
      "name": "python"
    }
  },
  "cells": [
    {
      "cell_type": "markdown",
      "metadata": {
        "id": "view-in-github",
        "colab_type": "text"
      },
      "source": [
        "<a href=\"https://colab.research.google.com/github/arunravi8595/CE802/blob/main/Assignment/CE802_P2_Notebook.ipynb\" target=\"_parent\"><img src=\"https://colab.research.google.com/assets/colab-badge.svg\" alt=\"Open In Colab\"/></a>"
      ]
    },
    {
      "cell_type": "code",
      "metadata": {
        "id": "uLt3DhDab0xV"
      },
      "source": [
        "#Import required libraries\n",
        "import pandas as pd\n",
        "import numpy as np\n",
        "import seaborn as sns\n",
        "import matplotlib.pyplot as plt\n",
        "from sklearn.linear_model import LinearRegression\n",
        "from sklearn.metrics import mean_squared_error, r2_score\n",
        "from sklearn import preprocessing"
      ],
      "execution_count": 260,
      "outputs": []
    },
    {
      "cell_type": "code",
      "metadata": {
        "id": "Gv22V1Pyb1em"
      },
      "source": [
        "#Load Data - CE802_P2_Data\n",
        "dataset = pd.read_csv('https://raw.githubusercontent.com/arunravi8595/CE802/main/CE802_P2_Data.csv')\n",
        "test_dataset = pd.read_csv('https://raw.githubusercontent.com/arunravi8595/CE802/main/CE802_P2_Test.csv')"
      ],
      "execution_count": 261,
      "outputs": []
    },
    {
      "cell_type": "code",
      "metadata": {
        "colab": {
          "base_uri": "https://localhost:8080/",
          "height": 205
        },
        "id": "Ju8zQDS8b9aa",
        "outputId": "bfe4026e-09a9-40a4-bdd4-8d0a7357dec8"
      },
      "source": [
        "dataset.head()"
      ],
      "execution_count": 262,
      "outputs": [
        {
          "output_type": "execute_result",
          "data": {
            "text/html": [
              "<div>\n",
              "<style scoped>\n",
              "    .dataframe tbody tr th:only-of-type {\n",
              "        vertical-align: middle;\n",
              "    }\n",
              "\n",
              "    .dataframe tbody tr th {\n",
              "        vertical-align: top;\n",
              "    }\n",
              "\n",
              "    .dataframe thead th {\n",
              "        text-align: right;\n",
              "    }\n",
              "</style>\n",
              "<table border=\"1\" class=\"dataframe\">\n",
              "  <thead>\n",
              "    <tr style=\"text-align: right;\">\n",
              "      <th></th>\n",
              "      <th>F1</th>\n",
              "      <th>F2</th>\n",
              "      <th>F3</th>\n",
              "      <th>F4</th>\n",
              "      <th>F5</th>\n",
              "      <th>F6</th>\n",
              "      <th>F7</th>\n",
              "      <th>F8</th>\n",
              "      <th>F9</th>\n",
              "      <th>F10</th>\n",
              "      <th>F11</th>\n",
              "      <th>F12</th>\n",
              "      <th>F13</th>\n",
              "      <th>F14</th>\n",
              "      <th>F15</th>\n",
              "      <th>Class</th>\n",
              "    </tr>\n",
              "  </thead>\n",
              "  <tbody>\n",
              "    <tr>\n",
              "      <th>0</th>\n",
              "      <td>-1</td>\n",
              "      <td>45</td>\n",
              "      <td>-7.97</td>\n",
              "      <td>0.54</td>\n",
              "      <td>3</td>\n",
              "      <td>0.50</td>\n",
              "      <td>-113.34</td>\n",
              "      <td>20.30</td>\n",
              "      <td>9.99</td>\n",
              "      <td>20.50</td>\n",
              "      <td>-5.52</td>\n",
              "      <td>3.60</td>\n",
              "      <td>-466.22</td>\n",
              "      <td>1.88</td>\n",
              "      <td>-7.49</td>\n",
              "      <td>True</td>\n",
              "    </tr>\n",
              "    <tr>\n",
              "      <th>1</th>\n",
              "      <td>1</td>\n",
              "      <td>27</td>\n",
              "      <td>-7.02</td>\n",
              "      <td>1.08</td>\n",
              "      <td>3</td>\n",
              "      <td>0.85</td>\n",
              "      <td>-47.34</td>\n",
              "      <td>20.00</td>\n",
              "      <td>2.88</td>\n",
              "      <td>19.40</td>\n",
              "      <td>-6.49</td>\n",
              "      <td>1.22</td>\n",
              "      <td>-470.22</td>\n",
              "      <td>0.57</td>\n",
              "      <td>NaN</td>\n",
              "      <td>True</td>\n",
              "    </tr>\n",
              "    <tr>\n",
              "      <th>2</th>\n",
              "      <td>-2</td>\n",
              "      <td>0</td>\n",
              "      <td>-8.82</td>\n",
              "      <td>0.56</td>\n",
              "      <td>3</td>\n",
              "      <td>0.45</td>\n",
              "      <td>-152.34</td>\n",
              "      <td>19.62</td>\n",
              "      <td>9.78</td>\n",
              "      <td>20.74</td>\n",
              "      <td>-5.21</td>\n",
              "      <td>2.08</td>\n",
              "      <td>-534.22</td>\n",
              "      <td>5.62</td>\n",
              "      <td>-5.74</td>\n",
              "      <td>False</td>\n",
              "    </tr>\n",
              "    <tr>\n",
              "      <th>3</th>\n",
              "      <td>-14</td>\n",
              "      <td>855</td>\n",
              "      <td>-3.23</td>\n",
              "      <td>12.00</td>\n",
              "      <td>30</td>\n",
              "      <td>7.45</td>\n",
              "      <td>-341.34</td>\n",
              "      <td>34.76</td>\n",
              "      <td>-10.14</td>\n",
              "      <td>14.38</td>\n",
              "      <td>-4.79</td>\n",
              "      <td>-2.52</td>\n",
              "      <td>-846.22</td>\n",
              "      <td>-4.17</td>\n",
              "      <td>NaN</td>\n",
              "      <td>True</td>\n",
              "    </tr>\n",
              "    <tr>\n",
              "      <th>4</th>\n",
              "      <td>-1</td>\n",
              "      <td>39</td>\n",
              "      <td>-8.12</td>\n",
              "      <td>2.88</td>\n",
              "      <td>3</td>\n",
              "      <td>0.76</td>\n",
              "      <td>-53.34</td>\n",
              "      <td>19.08</td>\n",
              "      <td>6.48</td>\n",
              "      <td>22.58</td>\n",
              "      <td>-7.52</td>\n",
              "      <td>1.24</td>\n",
              "      <td>-512.22</td>\n",
              "      <td>2.17</td>\n",
              "      <td>NaN</td>\n",
              "      <td>False</td>\n",
              "    </tr>\n",
              "  </tbody>\n",
              "</table>\n",
              "</div>"
            ],
            "text/plain": [
              "   F1   F2    F3     F4  F5    F6  ...   F11   F12     F13   F14   F15  Class\n",
              "0  -1   45 -7.97   0.54   3  0.50  ... -5.52  3.60 -466.22  1.88 -7.49   True\n",
              "1   1   27 -7.02   1.08   3  0.85  ... -6.49  1.22 -470.22  0.57   NaN   True\n",
              "2  -2    0 -8.82   0.56   3  0.45  ... -5.21  2.08 -534.22  5.62 -5.74  False\n",
              "3 -14  855 -3.23  12.00  30  7.45  ... -4.79 -2.52 -846.22 -4.17   NaN   True\n",
              "4  -1   39 -8.12   2.88   3  0.76  ... -7.52  1.24 -512.22  2.17   NaN  False\n",
              "\n",
              "[5 rows x 16 columns]"
            ]
          },
          "metadata": {
            "tags": []
          },
          "execution_count": 262
        }
      ]
    },
    {
      "cell_type": "code",
      "metadata": {
        "colab": {
          "base_uri": "https://localhost:8080/",
          "height": 319
        },
        "id": "_RunemIpcKWV",
        "outputId": "161f6969-41f4-42d5-be17-35d977d95576"
      },
      "source": [
        "dataset.describe()"
      ],
      "execution_count": 263,
      "outputs": [
        {
          "output_type": "execute_result",
          "data": {
            "text/html": [
              "<div>\n",
              "<style scoped>\n",
              "    .dataframe tbody tr th:only-of-type {\n",
              "        vertical-align: middle;\n",
              "    }\n",
              "\n",
              "    .dataframe tbody tr th {\n",
              "        vertical-align: top;\n",
              "    }\n",
              "\n",
              "    .dataframe thead th {\n",
              "        text-align: right;\n",
              "    }\n",
              "</style>\n",
              "<table border=\"1\" class=\"dataframe\">\n",
              "  <thead>\n",
              "    <tr style=\"text-align: right;\">\n",
              "      <th></th>\n",
              "      <th>F1</th>\n",
              "      <th>F2</th>\n",
              "      <th>F3</th>\n",
              "      <th>F4</th>\n",
              "      <th>F5</th>\n",
              "      <th>F6</th>\n",
              "      <th>F7</th>\n",
              "      <th>F8</th>\n",
              "      <th>F9</th>\n",
              "      <th>F10</th>\n",
              "      <th>F11</th>\n",
              "      <th>F12</th>\n",
              "      <th>F13</th>\n",
              "      <th>F14</th>\n",
              "      <th>F15</th>\n",
              "    </tr>\n",
              "  </thead>\n",
              "  <tbody>\n",
              "    <tr>\n",
              "      <th>count</th>\n",
              "      <td>1500.000000</td>\n",
              "      <td>1500.00000</td>\n",
              "      <td>1500.000000</td>\n",
              "      <td>1500.00000</td>\n",
              "      <td>1500.00000</td>\n",
              "      <td>1500.000000</td>\n",
              "      <td>1500.000000</td>\n",
              "      <td>1500.000000</td>\n",
              "      <td>1500.000000</td>\n",
              "      <td>1500.000000</td>\n",
              "      <td>1500.000000</td>\n",
              "      <td>1500.000000</td>\n",
              "      <td>1500.000000</td>\n",
              "      <td>1500.000000</td>\n",
              "      <td>750.000000</td>\n",
              "    </tr>\n",
              "    <tr>\n",
              "      <th>mean</th>\n",
              "      <td>-6.638000</td>\n",
              "      <td>327.07400</td>\n",
              "      <td>-5.583260</td>\n",
              "      <td>9.93752</td>\n",
              "      <td>16.21000</td>\n",
              "      <td>3.854280</td>\n",
              "      <td>-88.098000</td>\n",
              "      <td>26.035627</td>\n",
              "      <td>0.224600</td>\n",
              "      <td>16.934107</td>\n",
              "      <td>-6.072353</td>\n",
              "      <td>-2.524933</td>\n",
              "      <td>-605.110667</td>\n",
              "      <td>-0.361213</td>\n",
              "      <td>-7.043013</td>\n",
              "    </tr>\n",
              "    <tr>\n",
              "      <th>std</th>\n",
              "      <td>7.159315</td>\n",
              "      <td>352.00374</td>\n",
              "      <td>2.554271</td>\n",
              "      <td>8.65042</td>\n",
              "      <td>13.51472</td>\n",
              "      <td>3.465276</td>\n",
              "      <td>120.565344</td>\n",
              "      <td>6.333818</td>\n",
              "      <td>7.635517</td>\n",
              "      <td>5.027699</td>\n",
              "      <td>1.108964</td>\n",
              "      <td>4.982472</td>\n",
              "      <td>142.833748</td>\n",
              "      <td>2.540644</td>\n",
              "      <td>1.005117</td>\n",
              "    </tr>\n",
              "    <tr>\n",
              "      <th>min</th>\n",
              "      <td>-24.000000</td>\n",
              "      <td>0.00000</td>\n",
              "      <td>-13.980000</td>\n",
              "      <td>0.00000</td>\n",
              "      <td>0.00000</td>\n",
              "      <td>0.000000</td>\n",
              "      <td>-431.340000</td>\n",
              "      <td>18.660000</td>\n",
              "      <td>-13.470000</td>\n",
              "      <td>7.980000</td>\n",
              "      <td>-10.310000</td>\n",
              "      <td>-11.540000</td>\n",
              "      <td>-936.220000</td>\n",
              "      <td>-5.020000</td>\n",
              "      <td>-9.400000</td>\n",
              "    </tr>\n",
              "    <tr>\n",
              "      <th>25%</th>\n",
              "      <td>-14.000000</td>\n",
              "      <td>45.00000</td>\n",
              "      <td>-7.480000</td>\n",
              "      <td>2.48000</td>\n",
              "      <td>3.00000</td>\n",
              "      <td>0.600000</td>\n",
              "      <td>-143.340000</td>\n",
              "      <td>20.100000</td>\n",
              "      <td>-7.140000</td>\n",
              "      <td>12.120000</td>\n",
              "      <td>-6.650000</td>\n",
              "      <td>-7.280000</td>\n",
              "      <td>-726.220000</td>\n",
              "      <td>-2.840000</td>\n",
              "      <td>-7.790000</td>\n",
              "    </tr>\n",
              "    <tr>\n",
              "      <th>50%</th>\n",
              "      <td>-3.000000</td>\n",
              "      <td>150.00000</td>\n",
              "      <td>-6.580000</td>\n",
              "      <td>4.14000</td>\n",
              "      <td>3.00000</td>\n",
              "      <td>1.020000</td>\n",
              "      <td>-104.340000</td>\n",
              "      <td>20.820000</td>\n",
              "      <td>3.195000</td>\n",
              "      <td>18.900000</td>\n",
              "      <td>-5.920000</td>\n",
              "      <td>-0.620000</td>\n",
              "      <td>-534.220000</td>\n",
              "      <td>0.620000</td>\n",
              "      <td>-7.050000</td>\n",
              "    </tr>\n",
              "    <tr>\n",
              "      <th>75%</th>\n",
              "      <td>-1.000000</td>\n",
              "      <td>585.00000</td>\n",
              "      <td>-3.087500</td>\n",
              "      <td>16.40000</td>\n",
              "      <td>30.00000</td>\n",
              "      <td>7.050000</td>\n",
              "      <td>-41.340000</td>\n",
              "      <td>31.560000</td>\n",
              "      <td>5.880000</td>\n",
              "      <td>20.820000</td>\n",
              "      <td>-5.420000</td>\n",
              "      <td>1.145000</td>\n",
              "      <td>-494.220000</td>\n",
              "      <td>1.520000</td>\n",
              "      <td>-6.322500</td>\n",
              "    </tr>\n",
              "    <tr>\n",
              "      <th>max</th>\n",
              "      <td>2.000000</td>\n",
              "      <td>1170.00000</td>\n",
              "      <td>-1.110000</td>\n",
              "      <td>31.40000</td>\n",
              "      <td>30.00000</td>\n",
              "      <td>10.350000</td>\n",
              "      <td>213.660000</td>\n",
              "      <td>38.960000</td>\n",
              "      <td>25.320000</td>\n",
              "      <td>32.260000</td>\n",
              "      <td>-3.710000</td>\n",
              "      <td>12.940000</td>\n",
              "      <td>-446.220000</td>\n",
              "      <td>8.670000</td>\n",
              "      <td>-4.320000</td>\n",
              "    </tr>\n",
              "  </tbody>\n",
              "</table>\n",
              "</div>"
            ],
            "text/plain": [
              "                F1          F2  ...          F14         F15\n",
              "count  1500.000000  1500.00000  ...  1500.000000  750.000000\n",
              "mean     -6.638000   327.07400  ...    -0.361213   -7.043013\n",
              "std       7.159315   352.00374  ...     2.540644    1.005117\n",
              "min     -24.000000     0.00000  ...    -5.020000   -9.400000\n",
              "25%     -14.000000    45.00000  ...    -2.840000   -7.790000\n",
              "50%      -3.000000   150.00000  ...     0.620000   -7.050000\n",
              "75%      -1.000000   585.00000  ...     1.520000   -6.322500\n",
              "max       2.000000  1170.00000  ...     8.670000   -4.320000\n",
              "\n",
              "[8 rows x 15 columns]"
            ]
          },
          "metadata": {
            "tags": []
          },
          "execution_count": 263
        }
      ]
    },
    {
      "cell_type": "code",
      "metadata": {
        "colab": {
          "base_uri": "https://localhost:8080/",
          "height": 334
        },
        "id": "1jt0-F6acKt0",
        "outputId": "9f21779a-7389-4adc-9f36-dd9ad8d66641"
      },
      "source": [
        "plt.hist(dataset.F1)\n"
      ],
      "execution_count": 264,
      "outputs": [
        {
          "output_type": "execute_result",
          "data": {
            "text/plain": [
              "(array([105.,   4.,   0., 374.,   0.,  13.,   0., 240., 647., 117.]),\n",
              " array([-24. , -21.4, -18.8, -16.2, -13.6, -11. ,  -8.4,  -5.8,  -3.2,\n",
              "         -0.6,   2. ]),\n",
              " <a list of 10 Patch objects>)"
            ]
          },
          "metadata": {
            "tags": []
          },
          "execution_count": 264
        },
        {
          "output_type": "display_data",
          "data": {
            "image/png": "[encoded data removed]",
            "text/plain": [
              "<Figure size 432x288 with 1 Axes>"
            ]
          },
          "metadata": {
            "tags": [],
            "needs_background": "light"
          }
        }
      ]
    },
    {
      "cell_type": "code",
      "metadata": {
        "colab": {
          "base_uri": "https://localhost:8080/"
        },
        "id": "iQ7TDS8kcV6X",
        "outputId": "3d158b2b-32f5-4ed1-b720-f5d8f9997362"
      },
      "source": [
        "dataset.shape"
      ],
      "execution_count": 265,
      "outputs": [
        {
          "output_type": "execute_result",
          "data": {
            "text/plain": [
              "(1500, 16)"
            ]
          },
          "metadata": {
            "tags": []
          },
          "execution_count": 265
        }
      ]
    },
    {
      "cell_type": "code",
      "metadata": {
        "colab": {
          "base_uri": "https://localhost:8080/"
        },
        "id": "wZSqDiLccYGN",
        "outputId": "0064167e-e939-4718-a369-cf9a7c892aaa"
      },
      "source": [
        "dataset.nunique()"
      ],
      "execution_count": 266,
      "outputs": [
        {
          "output_type": "execute_result",
          "data": {
            "text/plain": [
              "F1        11\n",
              "F2       141\n",
              "F3       660\n",
              "F4       400\n",
              "F5         4\n",
              "F6       216\n",
              "F7        80\n",
              "F8       214\n",
              "F9       650\n",
              "F10      656\n",
              "F11      432\n",
              "F12      649\n",
              "F13       91\n",
              "F14      646\n",
              "F15      331\n",
              "Class      2\n",
              "dtype: int64"
            ]
          },
          "metadata": {
            "tags": []
          },
          "execution_count": 266
        }
      ]
    },
    {
      "cell_type": "code",
      "metadata": {
        "colab": {
          "base_uri": "https://localhost:8080/",
          "height": 612
        },
        "id": "OEzEnhhacbTN",
        "outputId": "ae863310-1670-4495-eb16-71a12d51a715"
      },
      "source": [
        "#Plotting Correlation\n",
        "plt.figure(figsize=(20,10))\n",
        "correlation=dataset.corr()\n",
        "sns.heatmap(correlation,xticklabels=correlation.columns,yticklabels=correlation.columns,annot=True)"
      ],
      "execution_count": 267,
      "outputs": [
        {
          "output_type": "execute_result",
          "data": {
            "text/plain": [
              "<matplotlib.axes._subplots.AxesSubplot at 0x7fb534e40910>"
            ]
          },
          "metadata": {
            "tags": []
          },
          "execution_count": 267
        },
        {
          "output_type": "display_data",
          "data": {
            "image/png": "[encoded data removed]",
            "text/plain": [
              "<Figure size 1440x720 with 2 Axes>"
            ]
          },
          "metadata": {
            "tags": [],
            "needs_background": "light"
          }
        }
      ]
    },
    {
      "cell_type": "code",
      "metadata": {
        "colab": {
          "base_uri": "https://localhost:8080/"
        },
        "id": "fQnEv2DYcict",
        "outputId": "7101a2db-0ea5-4366-ba2f-98309f527ce0"
      },
      "source": [
        "dataset.isnull().sum()"
      ],
      "execution_count": 268,
      "outputs": [
        {
          "output_type": "execute_result",
          "data": {
            "text/plain": [
              "F1         0\n",
              "F2         0\n",
              "F3         0\n",
              "F4         0\n",
              "F5         0\n",
              "F6         0\n",
              "F7         0\n",
              "F8         0\n",
              "F9         0\n",
              "F10        0\n",
              "F11        0\n",
              "F12        0\n",
              "F13        0\n",
              "F14        0\n",
              "F15      750\n",
              "Class      0\n",
              "dtype: int64"
            ]
          },
          "metadata": {
            "tags": []
          },
          "execution_count": 268
        }
      ]
    },
    {
      "cell_type": "code",
      "metadata": {
        "colab": {
          "base_uri": "https://localhost:8080/",
          "height": 336
        },
        "id": "jEIiqluqcnKY",
        "outputId": "32cc1a60-46ff-4cc4-c83e-4bc2fb53cfa7"
      },
      "source": [
        "plt.hist(dataset.F15)"
      ],
      "execution_count": 269,
      "outputs": [
        {
          "output_type": "execute_result",
          "data": {
            "text/plain": [
              "(array([ 22.,  52.,  98., 116., 129., 135., 101.,  69.,  19.,   9.]),\n",
              " array([-9.4  , -8.892, -8.384, -7.876, -7.368, -6.86 , -6.352, -5.844,\n",
              "        -5.336, -4.828, -4.32 ]),\n",
              " <a list of 10 Patch objects>)"
            ]
          },
          "metadata": {
            "tags": []
          },
          "execution_count": 269
        },
        {
          "output_type": "display_data",
          "data": {
            "image/png": "[encoded data removed]",
            "text/plain": [
              "<Figure size 432x288 with 1 Axes>"
            ]
          },
          "metadata": {
            "tags": [],
            "needs_background": "light"
          }
        }
      ]
    },
    {
      "cell_type": "code",
      "metadata": {
        "id": "-yLDx8-Xcksd"
      },
      "source": [
        "# Replace True and false with 0 and 1\n",
        "cleanup = {\"Class\": {False:0, True:1}}\n",
        "dataset.replace(cleanup, inplace=True)"
      ],
      "execution_count": 270,
      "outputs": []
    },
    {
      "cell_type": "code",
      "metadata": {
        "colab": {
          "base_uri": "https://localhost:8080/"
        },
        "id": "8llRUw93cq_G",
        "outputId": "22bf0118-7a3a-487a-a355-631eb87c2d4e"
      },
      "source": [
        "#Calculating missing value with mean value\n",
        "dataset=dataset.fillna(dataset.mean())\n",
        "dataset.isnull().sum()"
      ],
      "execution_count": 271,
      "outputs": [
        {
          "output_type": "execute_result",
          "data": {
            "text/plain": [
              "F1       0\n",
              "F2       0\n",
              "F3       0\n",
              "F4       0\n",
              "F5       0\n",
              "F6       0\n",
              "F7       0\n",
              "F8       0\n",
              "F9       0\n",
              "F10      0\n",
              "F11      0\n",
              "F12      0\n",
              "F13      0\n",
              "F14      0\n",
              "F15      0\n",
              "Class    0\n",
              "dtype: int64"
            ]
          },
          "metadata": {
            "tags": []
          },
          "execution_count": 271
        }
      ]
    },
    {
      "cell_type": "code",
      "metadata": {
        "colab": {
          "base_uri": "https://localhost:8080/",
          "height": 205
        },
        "id": "E_BXwPJtc8Ay",
        "outputId": "4a650d9e-ba72-4f0e-a0fb-dd18f2a3516f"
      },
      "source": [
        "# target data and features seprating \n",
        "Input=dataset.iloc[:,0:16]\n",
        "x = Input.values #returns a numpy array\n",
        "min_max_scaler = preprocessing.MinMaxScaler()\n",
        "x_scaled = min_max_scaler.fit_transform(x)\n",
        "dataset = pd.DataFrame(x_scaled)\n",
        "dataset.head()"
      ],
      "execution_count": 272,
      "outputs": [
        {
          "output_type": "execute_result",
          "data": {
            "text/html": [
              "<div>\n",
              "<style scoped>\n",
              "    .dataframe tbody tr th:only-of-type {\n",
              "        vertical-align: middle;\n",
              "    }\n",
              "\n",
              "    .dataframe tbody tr th {\n",
              "        vertical-align: top;\n",
              "    }\n",
              "\n",
              "    .dataframe thead th {\n",
              "        text-align: right;\n",
              "    }\n",
              "</style>\n",
              "<table border=\"1\" class=\"dataframe\">\n",
              "  <thead>\n",
              "    <tr style=\"text-align: right;\">\n",
              "      <th></th>\n",
              "      <th>0</th>\n",
              "      <th>1</th>\n",
              "      <th>2</th>\n",
              "      <th>3</th>\n",
              "      <th>4</th>\n",
              "      <th>5</th>\n",
              "      <th>6</th>\n",
              "      <th>7</th>\n",
              "      <th>8</th>\n",
              "      <th>9</th>\n",
              "      <th>10</th>\n",
              "      <th>11</th>\n",
              "      <th>12</th>\n",
              "      <th>13</th>\n",
              "      <th>14</th>\n",
              "      <th>15</th>\n",
              "    </tr>\n",
              "  </thead>\n",
              "  <tbody>\n",
              "    <tr>\n",
              "      <th>0</th>\n",
              "      <td>0.884615</td>\n",
              "      <td>0.038462</td>\n",
              "      <td>0.466977</td>\n",
              "      <td>0.017197</td>\n",
              "      <td>0.1</td>\n",
              "      <td>0.048309</td>\n",
              "      <td>0.493023</td>\n",
              "      <td>0.080788</td>\n",
              "      <td>0.604795</td>\n",
              "      <td>0.515651</td>\n",
              "      <td>0.725758</td>\n",
              "      <td>0.618464</td>\n",
              "      <td>0.959184</td>\n",
              "      <td>0.504018</td>\n",
              "      <td>0.375984</td>\n",
              "      <td>1.0</td>\n",
              "    </tr>\n",
              "    <tr>\n",
              "      <th>1</th>\n",
              "      <td>0.961538</td>\n",
              "      <td>0.023077</td>\n",
              "      <td>0.540793</td>\n",
              "      <td>0.034395</td>\n",
              "      <td>0.1</td>\n",
              "      <td>0.082126</td>\n",
              "      <td>0.595349</td>\n",
              "      <td>0.066010</td>\n",
              "      <td>0.421500</td>\n",
              "      <td>0.470346</td>\n",
              "      <td>0.578788</td>\n",
              "      <td>0.521242</td>\n",
              "      <td>0.951020</td>\n",
              "      <td>0.408327</td>\n",
              "      <td>0.463974</td>\n",
              "      <td>1.0</td>\n",
              "    </tr>\n",
              "    <tr>\n",
              "      <th>2</th>\n",
              "      <td>0.846154</td>\n",
              "      <td>0.000000</td>\n",
              "      <td>0.400932</td>\n",
              "      <td>0.017834</td>\n",
              "      <td>0.1</td>\n",
              "      <td>0.043478</td>\n",
              "      <td>0.432558</td>\n",
              "      <td>0.047291</td>\n",
              "      <td>0.599381</td>\n",
              "      <td>0.525535</td>\n",
              "      <td>0.772727</td>\n",
              "      <td>0.556373</td>\n",
              "      <td>0.820408</td>\n",
              "      <td>0.777210</td>\n",
              "      <td>0.720472</td>\n",
              "      <td>0.0</td>\n",
              "    </tr>\n",
              "    <tr>\n",
              "      <th>3</th>\n",
              "      <td>0.384615</td>\n",
              "      <td>0.730769</td>\n",
              "      <td>0.835276</td>\n",
              "      <td>0.382166</td>\n",
              "      <td>1.0</td>\n",
              "      <td>0.719807</td>\n",
              "      <td>0.139535</td>\n",
              "      <td>0.793103</td>\n",
              "      <td>0.085847</td>\n",
              "      <td>0.263591</td>\n",
              "      <td>0.836364</td>\n",
              "      <td>0.368464</td>\n",
              "      <td>0.183673</td>\n",
              "      <td>0.062089</td>\n",
              "      <td>0.463974</td>\n",
              "      <td>1.0</td>\n",
              "    </tr>\n",
              "    <tr>\n",
              "      <th>4</th>\n",
              "      <td>0.884615</td>\n",
              "      <td>0.033333</td>\n",
              "      <td>0.455322</td>\n",
              "      <td>0.091720</td>\n",
              "      <td>0.1</td>\n",
              "      <td>0.073430</td>\n",
              "      <td>0.586047</td>\n",
              "      <td>0.020690</td>\n",
              "      <td>0.514308</td>\n",
              "      <td>0.601318</td>\n",
              "      <td>0.422727</td>\n",
              "      <td>0.522059</td>\n",
              "      <td>0.865306</td>\n",
              "      <td>0.525201</td>\n",
              "      <td>0.463974</td>\n",
              "      <td>0.0</td>\n",
              "    </tr>\n",
              "  </tbody>\n",
              "</table>\n",
              "</div>"
            ],
            "text/plain": [
              "         0         1         2         3   ...        12        13        14   15\n",
              "0  0.884615  0.038462  0.466977  0.017197  ...  0.959184  0.504018  0.375984  1.0\n",
              "1  0.961538  0.023077  0.540793  0.034395  ...  0.951020  0.408327  0.463974  1.0\n",
              "2  0.846154  0.000000  0.400932  0.017834  ...  0.820408  0.777210  0.720472  0.0\n",
              "3  0.384615  0.730769  0.835276  0.382166  ...  0.183673  0.062089  0.463974  1.0\n",
              "4  0.884615  0.033333  0.455322  0.091720  ...  0.865306  0.525201  0.463974  0.0\n",
              "\n",
              "[5 rows x 16 columns]"
            ]
          },
          "metadata": {
            "tags": []
          },
          "execution_count": 272
        }
      ]
    },
    {
      "cell_type": "code",
      "metadata": {
        "id": "wktPvrUidK1D"
      },
      "source": [
        "# Rename dataset column\n",
        "dataset=dataset.rename(columns={0:'F1',1:'F2',2:'F3',3:'F4',4:'F5',5:'F6',6:'F7',7:'F8',8:'F9',9:'F10',10:'F11',11:'F12',12:'F13',13:'F14',14:'F15',15:'Class'})"
      ],
      "execution_count": 273,
      "outputs": []
    },
    {
      "cell_type": "code",
      "metadata": {
        "id": "GGJXkv90dOrK"
      },
      "source": [
        "from sklearn.model_selection import train_test_split\n",
        "X = dataset.loc[:, dataset.columns != 'Class']\n",
        "y = dataset.loc[:, dataset.columns == 'Class']"
      ],
      "execution_count": 274,
      "outputs": []
    },
    {
      "cell_type": "code",
      "metadata": {
        "id": "i_M6wr4pdUTn"
      },
      "source": [
        "X_train,X_test,y_train,y_test=train_test_split(X,y,test_size=0.3,random_state=0)"
      ],
      "execution_count": 275,
      "outputs": []
    },
    {
      "cell_type": "markdown",
      "metadata": {
        "id": "Aj-t1PwddX7p"
      },
      "source": [
        "# **Decision Tree Model**"
      ]
    },
    {
      "cell_type": "code",
      "metadata": {
        "colab": {
          "base_uri": "https://localhost:8080/"
        },
        "id": "o57kO8wpdVyv",
        "outputId": "bab94513-9f8b-4c43-8c5a-d58e53c9ccc8"
      },
      "source": [
        "# Build Decision Tree  classifier model and train\n",
        "from sklearn.tree import DecisionTreeClassifier\n",
        "classifier = DecisionTreeClassifier(criterion='gini')\n",
        "classifier.fit(X_train, y_train)"
      ],
      "execution_count": 276,
      "outputs": [
        {
          "output_type": "execute_result",
          "data": {
            "text/plain": [
              "DecisionTreeClassifier(ccp_alpha=0.0, class_weight=None, criterion='gini',\n",
              "                       max_depth=None, max_features=None, max_leaf_nodes=None,\n",
              "                       min_impurity_decrease=0.0, min_impurity_split=None,\n",
              "                       min_samples_leaf=1, min_samples_split=2,\n",
              "                       min_weight_fraction_leaf=0.0, presort='deprecated',\n",
              "                       random_state=None, splitter='best')"
            ]
          },
          "metadata": {
            "tags": []
          },
          "execution_count": 276
        }
      ]
    },
    {
      "cell_type": "code",
      "metadata": {
        "id": "xiRM69pAda57"
      },
      "source": [
        "# Prediction\n",
        "y_pred = classifier.predict(X_test)"
      ],
      "execution_count": 277,
      "outputs": []
    },
    {
      "cell_type": "code",
      "metadata": {
        "colab": {
          "base_uri": "https://localhost:8080/"
        },
        "id": "j9u-uoW8dh0S",
        "outputId": "f65bd12e-ead3-40bd-cc5e-233edbcb5632"
      },
      "source": [
        "# Confusion matrix and classification report\n",
        "from sklearn.metrics import classification_report, confusion_matrix,plot_confusion_matrix\n",
        "\n",
        "print(classification_report(y_test, y_pred))"
      ],
      "execution_count": 278,
      "outputs": [
        {
          "output_type": "stream",
          "text": [
            "              precision    recall  f1-score   support\n",
            "\n",
            "         0.0       0.82      0.75      0.78       250\n",
            "         1.0       0.72      0.80      0.76       200\n",
            "\n",
            "    accuracy                           0.77       450\n",
            "   macro avg       0.77      0.77      0.77       450\n",
            "weighted avg       0.78      0.77      0.77       450\n",
            "\n"
          ],
          "name": "stdout"
        }
      ]
    },
    {
      "cell_type": "code",
      "metadata": {
        "colab": {
          "base_uri": "https://localhost:8080/"
        },
        "id": "REUJI2pS1Fa6",
        "outputId": "b5796bfa-3791-46b7-eb48-ca377007704d"
      },
      "source": [
        "print(confusion_matrix(y_test, y_pred))"
      ],
      "execution_count": 279,
      "outputs": [
        {
          "output_type": "stream",
          "text": [
            "[[188  62]\n",
            " [ 41 159]]\n"
          ],
          "name": "stdout"
        }
      ]
    },
    {
      "cell_type": "code",
      "metadata": {
        "colab": {
          "base_uri": "https://localhost:8080/",
          "height": 279
        },
        "id": "iyZCUXrQdjlG",
        "outputId": "aa67f2d3-f498-42c4-86be-e57ebe42aac2"
      },
      "source": [
        "#plotting Confusion matrix\n",
        "plot_confusion_matrix(classifier, X_test, y_test)  \n",
        "plt.show()"
      ],
      "execution_count": 280,
      "outputs": [
        {
          "output_type": "display_data",
          "data": {
            "image/png": "[encoded data removed]",
            "text/plain": [
              "<Figure size 432x288 with 2 Axes>"
            ]
          },
          "metadata": {
            "tags": [],
            "needs_background": "light"
          }
        }
      ]
    },
    {
      "cell_type": "markdown",
      "metadata": {
        "id": "qZaRs65RdyCz"
      },
      "source": [
        "# **Random forest classifier**"
      ]
    },
    {
      "cell_type": "code",
      "metadata": {
        "colab": {
          "base_uri": "https://localhost:8080/"
        },
        "id": "vZ1Ddqazdpzs",
        "outputId": "0d458b2d-1cc9-455d-c384-4d25e3d4b7fb"
      },
      "source": [
        "# Build and train\n",
        "from sklearn.ensemble import RandomForestClassifier\n",
        "clf = RandomForestClassifier(n_estimators=150,max_depth=2, random_state=0)\n",
        "clf.fit(X_train, y_train)"
      ],
      "execution_count": 281,
      "outputs": [
        {
          "output_type": "stream",
          "text": [
            "/usr/local/lib/python3.7/dist-packages/ipykernel_launcher.py:4: DataConversionWarning: A column-vector y was passed when a 1d array was expected. Please change the shape of y to (n_samples,), for example using ravel().\n",
            "  after removing the cwd from sys.path.\n"
          ],
          "name": "stderr"
        },
        {
          "output_type": "execute_result",
          "data": {
            "text/plain": [
              "RandomForestClassifier(bootstrap=True, ccp_alpha=0.0, class_weight=None,\n",
              "                       criterion='gini', max_depth=2, max_features='auto',\n",
              "                       max_leaf_nodes=None, max_samples=None,\n",
              "                       min_impurity_decrease=0.0, min_impurity_split=None,\n",
              "                       min_samples_leaf=1, min_samples_split=2,\n",
              "                       min_weight_fraction_leaf=0.0, n_estimators=150,\n",
              "                       n_jobs=None, oob_score=False, random_state=0, verbose=0,\n",
              "                       warm_start=False)"
            ]
          },
          "metadata": {
            "tags": []
          },
          "execution_count": 281
        }
      ]
    },
    {
      "cell_type": "code",
      "metadata": {
        "colab": {
          "base_uri": "https://localhost:8080/"
        },
        "id": "-ePhiAASd0FV",
        "outputId": "aecba0ed-fb48-4c27-a3c9-b92045b51d5b"
      },
      "source": [
        "clf.predict(X_test)"
      ],
      "execution_count": 282,
      "outputs": [
        {
          "output_type": "execute_result",
          "data": {
            "text/plain": [
              "array([1., 1., 0., 1., 0., 1., 0., 1., 1., 1., 1., 1., 0., 1., 0., 0., 0.,\n",
              "       1., 0., 0., 0., 0., 0., 1., 0., 0., 1., 0., 0., 1., 0., 0., 1., 0.,\n",
              "       1., 0., 0., 1., 0., 0., 1., 0., 1., 0., 0., 0., 0., 0., 1., 1., 0.,\n",
              "       0., 0., 0., 0., 1., 1., 0., 1., 0., 1., 0., 0., 0., 1., 0., 0., 1.,\n",
              "       0., 0., 1., 0., 1., 1., 0., 0., 0., 0., 0., 0., 1., 0., 1., 0., 1.,\n",
              "       1., 0., 0., 0., 0., 1., 0., 1., 1., 0., 1., 0., 1., 0., 0., 1., 0.,\n",
              "       0., 0., 0., 1., 0., 0., 0., 1., 0., 0., 1., 0., 0., 0., 0., 0., 1.,\n",
              "       0., 0., 0., 0., 1., 0., 1., 1., 0., 0., 0., 1., 0., 0., 0., 0., 1.,\n",
              "       0., 1., 0., 0., 0., 0., 0., 0., 1., 1., 1., 0., 1., 0., 1., 0., 0.,\n",
              "       1., 1., 0., 1., 1., 1., 1., 1., 0., 0., 1., 1., 0., 1., 1., 0., 1.,\n",
              "       1., 1., 0., 1., 0., 1., 0., 0., 0., 0., 1., 0., 1., 0., 0., 1., 1.,\n",
              "       0., 0., 0., 0., 0., 0., 0., 0., 1., 1., 0., 1., 0., 1., 1., 0., 1.,\n",
              "       0., 1., 0., 1., 0., 1., 1., 0., 1., 0., 0., 1., 0., 1., 1., 0., 0.,\n",
              "       1., 1., 1., 0., 0., 0., 1., 1., 0., 0., 1., 0., 1., 0., 1., 0., 1.,\n",
              "       0., 0., 1., 0., 1., 0., 0., 0., 0., 0., 0., 1., 0., 1., 0., 0., 0.,\n",
              "       0., 1., 0., 1., 0., 0., 0., 0., 1., 1., 1., 1., 0., 0., 1., 0., 0.,\n",
              "       0., 1., 0., 0., 0., 0., 1., 0., 0., 0., 0., 1., 0., 0., 1., 1., 1.,\n",
              "       0., 1., 1., 0., 1., 0., 1., 1., 1., 0., 0., 0., 0., 1., 1., 1., 1.,\n",
              "       0., 1., 0., 0., 1., 0., 0., 1., 1., 0., 1., 1., 0., 0., 1., 1., 1.,\n",
              "       1., 1., 1., 0., 0., 1., 1., 1., 0., 0., 0., 1., 0., 1., 0., 0., 0.,\n",
              "       1., 0., 1., 0., 1., 1., 1., 1., 0., 0., 0., 0., 0., 0., 1., 0., 1.,\n",
              "       0., 1., 0., 0., 1., 1., 1., 1., 0., 0., 1., 0., 1., 1., 0., 1., 1.,\n",
              "       1., 0., 0., 1., 0., 1., 0., 1., 1., 1., 1., 1., 0., 0., 0., 1., 0.,\n",
              "       1., 1., 0., 1., 1., 1., 0., 0., 1., 0., 1., 0., 0., 1., 1., 0., 1.,\n",
              "       0., 1., 1., 1., 1., 0., 1., 1., 0., 0., 1., 0., 0., 1., 0., 0., 1.,\n",
              "       0., 1., 0., 1., 1., 0., 1., 0., 1., 0., 0., 0., 1., 0., 1., 1., 1.,\n",
              "       1., 1., 1., 0., 1., 1., 1., 1.])"
            ]
          },
          "metadata": {
            "tags": []
          },
          "execution_count": 282
        }
      ]
    },
    {
      "cell_type": "code",
      "metadata": {
        "colab": {
          "base_uri": "https://localhost:8080/"
        },
        "id": "Xujs_VSfd1_V",
        "outputId": "aa92ee46-d621-4fe2-e270-52685cbcb957"
      },
      "source": [
        "from sklearn.metrics import classification_report\n",
        "print(classification_report(y_test,y_pred))\n"
      ],
      "execution_count": 283,
      "outputs": [
        {
          "output_type": "stream",
          "text": [
            "              precision    recall  f1-score   support\n",
            "\n",
            "         0.0       0.82      0.75      0.78       250\n",
            "         1.0       0.72      0.80      0.76       200\n",
            "\n",
            "    accuracy                           0.77       450\n",
            "   macro avg       0.77      0.77      0.77       450\n",
            "weighted avg       0.78      0.77      0.77       450\n",
            "\n"
          ],
          "name": "stdout"
        }
      ]
    },
    {
      "cell_type": "code",
      "metadata": {
        "colab": {
          "base_uri": "https://localhost:8080/"
        },
        "id": "u07hfwrz3w2T",
        "outputId": "c550a3d3-c348-4603-9361-5a0fb7778457"
      },
      "source": [
        "print(confusion_matrix(y_test, y_pred))"
      ],
      "execution_count": 284,
      "outputs": [
        {
          "output_type": "stream",
          "text": [
            "[[188  62]\n",
            " [ 41 159]]\n"
          ],
          "name": "stdout"
        }
      ]
    },
    {
      "cell_type": "code",
      "metadata": {
        "colab": {
          "base_uri": "https://localhost:8080/",
          "height": 279
        },
        "id": "PcKPWx72d62v",
        "outputId": "220136b0-4b2b-4e30-ca3a-2acb2ef53206"
      },
      "source": [
        "plot_confusion_matrix(clf, X_test, y_test)  \n",
        "plt.show()"
      ],
      "execution_count": 285,
      "outputs": [
        {
          "output_type": "display_data",
          "data": {
            "image/png": "[encoded data removed]",
            "text/plain": [
              "<Figure size 432x288 with 2 Axes>"
            ]
          },
          "metadata": {
            "tags": [],
            "needs_background": "light"
          }
        }
      ]
    },
    {
      "cell_type": "markdown",
      "metadata": {
        "id": "xckfAgmbeHdV"
      },
      "source": [
        "**SVM model**"
      ]
    },
    {
      "cell_type": "code",
      "metadata": {
        "colab": {
          "base_uri": "https://localhost:8080/"
        },
        "id": "1kM96OLpd_3h",
        "outputId": "d456fb98-5f0e-4639-83c1-048fd36ca8a3"
      },
      "source": [
        "from sklearn.svm import SVC\n",
        "svclassifier = SVC(kernel='rbf',C=125)\n",
        "svclassifier.fit(X_train, y_train)"
      ],
      "execution_count": 286,
      "outputs": [
        {
          "output_type": "stream",
          "text": [
            "/usr/local/lib/python3.7/dist-packages/sklearn/utils/validation.py:760: DataConversionWarning: A column-vector y was passed when a 1d array was expected. Please change the shape of y to (n_samples, ), for example using ravel().\n",
            "  y = column_or_1d(y, warn=True)\n"
          ],
          "name": "stderr"
        },
        {
          "output_type": "execute_result",
          "data": {
            "text/plain": [
              "SVC(C=125, break_ties=False, cache_size=200, class_weight=None, coef0=0.0,\n",
              "    decision_function_shape='ovr', degree=3, gamma='scale', kernel='rbf',\n",
              "    max_iter=-1, probability=False, random_state=None, shrinking=True,\n",
              "    tol=0.001, verbose=False)"
            ]
          },
          "metadata": {
            "tags": []
          },
          "execution_count": 286
        }
      ]
    },
    {
      "cell_type": "code",
      "metadata": {
        "id": "X1ouJFjpeL-L"
      },
      "source": [
        "#predicting test data\n",
        "y_pred = svclassifier.predict(X_test)"
      ],
      "execution_count": 287,
      "outputs": []
    },
    {
      "cell_type": "code",
      "metadata": {
        "colab": {
          "base_uri": "https://localhost:8080/"
        },
        "id": "N6d-Du1yeN-7",
        "outputId": "e48c1b16-d5e1-45f8-fa46-565574dc1d36"
      },
      "source": [
        "from sklearn.metrics import classification_report, confusion_matrix\n",
        "print(confusion_matrix(y_test,y_pred))\n",
        "print(classification_report(y_test,y_pred))"
      ],
      "execution_count": 288,
      "outputs": [
        {
          "output_type": "stream",
          "text": [
            "[[226  24]\n",
            " [ 21 179]]\n",
            "              precision    recall  f1-score   support\n",
            "\n",
            "         0.0       0.91      0.90      0.91       250\n",
            "         1.0       0.88      0.90      0.89       200\n",
            "\n",
            "    accuracy                           0.90       450\n",
            "   macro avg       0.90      0.90      0.90       450\n",
            "weighted avg       0.90      0.90      0.90       450\n",
            "\n"
          ],
          "name": "stdout"
        }
      ]
    },
    {
      "cell_type": "code",
      "metadata": {
        "colab": {
          "base_uri": "https://localhost:8080/",
          "height": 282
        },
        "id": "P3pofts9eQBI",
        "outputId": "40368793-8f7a-4ae5-c766-693ba5be4e1c"
      },
      "source": [
        "plot_confusion_matrix(svclassifier, X_test, y_test)  \n",
        "plt.show()"
      ],
      "execution_count": 289,
      "outputs": [
        {
          "output_type": "display_data",
          "data": {
            "image/png": "[encoded data removed]",
            "text/plain": [
              "<Figure size 432x288 with 2 Axes>"
            ]
          },
          "metadata": {
            "tags": [],
            "needs_background": "light"
          }
        }
      ]
    },
    {
      "cell_type": "markdown",
      "metadata": {
        "id": "qvcPljtfeUXD"
      },
      "source": [
        "## **Test data**"
      ]
    },
    {
      "cell_type": "code",
      "metadata": {
        "colab": {
          "base_uri": "https://localhost:8080/",
          "height": 319
        },
        "id": "pgZeLzj-eR0l",
        "outputId": "72702ef4-0ae5-427f-b9dc-06c5393ad6f8"
      },
      "source": [
        "# Check test data\n",
        "test_dataset.describe()"
      ],
      "execution_count": 290,
      "outputs": [
        {
          "output_type": "execute_result",
          "data": {
            "text/html": [
              "<div>\n",
              "<style scoped>\n",
              "    .dataframe tbody tr th:only-of-type {\n",
              "        vertical-align: middle;\n",
              "    }\n",
              "\n",
              "    .dataframe tbody tr th {\n",
              "        vertical-align: top;\n",
              "    }\n",
              "\n",
              "    .dataframe thead th {\n",
              "        text-align: right;\n",
              "    }\n",
              "</style>\n",
              "<table border=\"1\" class=\"dataframe\">\n",
              "  <thead>\n",
              "    <tr style=\"text-align: right;\">\n",
              "      <th></th>\n",
              "      <th>F1</th>\n",
              "      <th>F2</th>\n",
              "      <th>F3</th>\n",
              "      <th>F4</th>\n",
              "      <th>F5</th>\n",
              "      <th>F6</th>\n",
              "      <th>F7</th>\n",
              "      <th>F8</th>\n",
              "      <th>F9</th>\n",
              "      <th>F10</th>\n",
              "      <th>F11</th>\n",
              "      <th>F12</th>\n",
              "      <th>F13</th>\n",
              "      <th>F14</th>\n",
              "      <th>F15</th>\n",
              "      <th>Class</th>\n",
              "    </tr>\n",
              "  </thead>\n",
              "  <tbody>\n",
              "    <tr>\n",
              "      <th>count</th>\n",
              "      <td>1500.000000</td>\n",
              "      <td>1500.000000</td>\n",
              "      <td>1500.000000</td>\n",
              "      <td>1500.000000</td>\n",
              "      <td>1500.000000</td>\n",
              "      <td>1500.000000</td>\n",
              "      <td>1500.000000</td>\n",
              "      <td>1500.000000</td>\n",
              "      <td>1500.000000</td>\n",
              "      <td>1500.000000</td>\n",
              "      <td>1500.000000</td>\n",
              "      <td>1500.000000</td>\n",
              "      <td>1500.000000</td>\n",
              "      <td>1500.000000</td>\n",
              "      <td>750.000000</td>\n",
              "      <td>0.0</td>\n",
              "    </tr>\n",
              "    <tr>\n",
              "      <th>mean</th>\n",
              "      <td>-6.644000</td>\n",
              "      <td>327.896000</td>\n",
              "      <td>-5.517507</td>\n",
              "      <td>10.202187</td>\n",
              "      <td>16.538000</td>\n",
              "      <td>3.895293</td>\n",
              "      <td>-81.150000</td>\n",
              "      <td>26.294107</td>\n",
              "      <td>0.050120</td>\n",
              "      <td>16.833320</td>\n",
              "      <td>-6.182833</td>\n",
              "      <td>-2.921707</td>\n",
              "      <td>-600.034667</td>\n",
              "      <td>-0.492587</td>\n",
              "      <td>-7.076347</td>\n",
              "      <td>NaN</td>\n",
              "    </tr>\n",
              "    <tr>\n",
              "      <th>std</th>\n",
              "      <td>7.073138</td>\n",
              "      <td>348.437105</td>\n",
              "      <td>2.534049</td>\n",
              "      <td>8.611866</td>\n",
              "      <td>13.522221</td>\n",
              "      <td>3.438299</td>\n",
              "      <td>124.116235</td>\n",
              "      <td>6.476781</td>\n",
              "      <td>7.693851</td>\n",
              "      <td>4.985787</td>\n",
              "      <td>1.201599</td>\n",
              "      <td>5.057494</td>\n",
              "      <td>137.330172</td>\n",
              "      <td>2.511221</td>\n",
              "      <td>1.014522</td>\n",
              "      <td>NaN</td>\n",
              "    </tr>\n",
              "    <tr>\n",
              "      <th>min</th>\n",
              "      <td>-24.000000</td>\n",
              "      <td>0.000000</td>\n",
              "      <td>-14.030000</td>\n",
              "      <td>0.020000</td>\n",
              "      <td>0.000000</td>\n",
              "      <td>0.000000</td>\n",
              "      <td>-416.340000</td>\n",
              "      <td>18.720000</td>\n",
              "      <td>-13.200000</td>\n",
              "      <td>7.300000</td>\n",
              "      <td>-11.110000</td>\n",
              "      <td>-11.660000</td>\n",
              "      <td>-936.220000</td>\n",
              "      <td>-4.920000</td>\n",
              "      <td>-10.540000</td>\n",
              "      <td>NaN</td>\n",
              "    </tr>\n",
              "    <tr>\n",
              "      <th>25%</th>\n",
              "      <td>-14.000000</td>\n",
              "      <td>57.000000</td>\n",
              "      <td>-7.420000</td>\n",
              "      <td>2.595000</td>\n",
              "      <td>3.000000</td>\n",
              "      <td>0.620000</td>\n",
              "      <td>-140.340000</td>\n",
              "      <td>20.100000</td>\n",
              "      <td>-7.290000</td>\n",
              "      <td>12.090000</td>\n",
              "      <td>-6.832500</td>\n",
              "      <td>-7.720000</td>\n",
              "      <td>-706.220000</td>\n",
              "      <td>-2.950000</td>\n",
              "      <td>-7.820000</td>\n",
              "      <td>NaN</td>\n",
              "    </tr>\n",
              "    <tr>\n",
              "      <th>50%</th>\n",
              "      <td>-4.000000</td>\n",
              "      <td>162.000000</td>\n",
              "      <td>-6.495000</td>\n",
              "      <td>10.200000</td>\n",
              "      <td>30.000000</td>\n",
              "      <td>5.050000</td>\n",
              "      <td>-101.340000</td>\n",
              "      <td>28.560000</td>\n",
              "      <td>3.030000</td>\n",
              "      <td>18.890000</td>\n",
              "      <td>-6.010000</td>\n",
              "      <td>-0.860000</td>\n",
              "      <td>-532.220000</td>\n",
              "      <td>0.460000</td>\n",
              "      <td>-7.075000</td>\n",
              "      <td>NaN</td>\n",
              "    </tr>\n",
              "    <tr>\n",
              "      <th>75%</th>\n",
              "      <td>-1.000000</td>\n",
              "      <td>585.000000</td>\n",
              "      <td>-3.050000</td>\n",
              "      <td>16.900000</td>\n",
              "      <td>30.000000</td>\n",
              "      <td>7.000000</td>\n",
              "      <td>-26.340000</td>\n",
              "      <td>32.060000</td>\n",
              "      <td>5.827500</td>\n",
              "      <td>20.640000</td>\n",
              "      <td>-5.427500</td>\n",
              "      <td>0.960000</td>\n",
              "      <td>-494.220000</td>\n",
              "      <td>1.362500</td>\n",
              "      <td>-6.342500</td>\n",
              "      <td>NaN</td>\n",
              "    </tr>\n",
              "    <tr>\n",
              "      <th>max</th>\n",
              "      <td>2.000000</td>\n",
              "      <td>1200.000000</td>\n",
              "      <td>-1.070000</td>\n",
              "      <td>31.500000</td>\n",
              "      <td>30.000000</td>\n",
              "      <td>10.300000</td>\n",
              "      <td>213.660000</td>\n",
              "      <td>39.660000</td>\n",
              "      <td>22.170000</td>\n",
              "      <td>30.920000</td>\n",
              "      <td>-3.800000</td>\n",
              "      <td>13.300000</td>\n",
              "      <td>-436.220000</td>\n",
              "      <td>7.410000</td>\n",
              "      <td>-4.150000</td>\n",
              "      <td>NaN</td>\n",
              "    </tr>\n",
              "  </tbody>\n",
              "</table>\n",
              "</div>"
            ],
            "text/plain": [
              "                F1           F2           F3  ...          F14         F15  Class\n",
              "count  1500.000000  1500.000000  1500.000000  ...  1500.000000  750.000000    0.0\n",
              "mean     -6.644000   327.896000    -5.517507  ...    -0.492587   -7.076347    NaN\n",
              "std       7.073138   348.437105     2.534049  ...     2.511221    1.014522    NaN\n",
              "min     -24.000000     0.000000   -14.030000  ...    -4.920000  -10.540000    NaN\n",
              "25%     -14.000000    57.000000    -7.420000  ...    -2.950000   -7.820000    NaN\n",
              "50%      -4.000000   162.000000    -6.495000  ...     0.460000   -7.075000    NaN\n",
              "75%      -1.000000   585.000000    -3.050000  ...     1.362500   -6.342500    NaN\n",
              "max       2.000000  1200.000000    -1.070000  ...     7.410000   -4.150000    NaN\n",
              "\n",
              "[8 rows x 16 columns]"
            ]
          },
          "metadata": {
            "tags": []
          },
          "execution_count": 290
        }
      ]
    },
    {
      "cell_type": "code",
      "metadata": {
        "colab": {
          "base_uri": "https://localhost:8080/"
        },
        "id": "wk1CGRjEebio",
        "outputId": "c6e8a0c5-92bc-400f-8372-40728cd98827"
      },
      "source": [
        "test_dataset.nunique()"
      ],
      "execution_count": 291,
      "outputs": [
        {
          "output_type": "execute_result",
          "data": {
            "text/plain": [
              "F1        11\n",
              "F2       139\n",
              "F3       653\n",
              "F4       397\n",
              "F5         4\n",
              "F6       213\n",
              "F7        77\n",
              "F8       215\n",
              "F9       667\n",
              "F10      645\n",
              "F11      471\n",
              "F12      640\n",
              "F13       93\n",
              "F14      638\n",
              "F15      339\n",
              "Class      0\n",
              "dtype: int64"
            ]
          },
          "metadata": {
            "tags": []
          },
          "execution_count": 291
        }
      ]
    },
    {
      "cell_type": "code",
      "metadata": {
        "colab": {
          "base_uri": "https://localhost:8080/"
        },
        "id": "WkZTIw_1edmP",
        "outputId": "29c1a693-0260-4f82-aa36-63976fddeb0f"
      },
      "source": [
        "# Calculating null values using mean\n",
        "test_dataset=test_dataset.fillna(dataset.mean())\n",
        "test_dataset.isnull().sum()"
      ],
      "execution_count": 292,
      "outputs": [
        {
          "output_type": "execute_result",
          "data": {
            "text/plain": [
              "F1       0\n",
              "F2       0\n",
              "F3       0\n",
              "F4       0\n",
              "F5       0\n",
              "F6       0\n",
              "F7       0\n",
              "F8       0\n",
              "F9       0\n",
              "F10      0\n",
              "F11      0\n",
              "F12      0\n",
              "F13      0\n",
              "F14      0\n",
              "F15      0\n",
              "Class    0\n",
              "dtype: int64"
            ]
          },
          "metadata": {
            "tags": []
          },
          "execution_count": 292
        }
      ]
    },
    {
      "cell_type": "code",
      "metadata": {
        "colab": {
          "base_uri": "https://localhost:8080/",
          "height": 421
        },
        "id": "tfK7nWA7eoQP",
        "outputId": "c57b44fa-9e44-470d-d31e-ae417a7abd9b"
      },
      "source": [
        "test_dataset.drop(\"Class\",axis=1)"
      ],
      "execution_count": 293,
      "outputs": [
        {
          "output_type": "execute_result",
          "data": {
            "text/html": [
              "<div>\n",
              "<style scoped>\n",
              "    .dataframe tbody tr th:only-of-type {\n",
              "        vertical-align: middle;\n",
              "    }\n",
              "\n",
              "    .dataframe tbody tr th {\n",
              "        vertical-align: top;\n",
              "    }\n",
              "\n",
              "    .dataframe thead th {\n",
              "        text-align: right;\n",
              "    }\n",
              "</style>\n",
              "<table border=\"1\" class=\"dataframe\">\n",
              "  <thead>\n",
              "    <tr style=\"text-align: right;\">\n",
              "      <th></th>\n",
              "      <th>F1</th>\n",
              "      <th>F2</th>\n",
              "      <th>F3</th>\n",
              "      <th>F4</th>\n",
              "      <th>F5</th>\n",
              "      <th>F6</th>\n",
              "      <th>F7</th>\n",
              "      <th>F8</th>\n",
              "      <th>F9</th>\n",
              "      <th>F10</th>\n",
              "      <th>F11</th>\n",
              "      <th>F12</th>\n",
              "      <th>F13</th>\n",
              "      <th>F14</th>\n",
              "      <th>F15</th>\n",
              "    </tr>\n",
              "  </thead>\n",
              "  <tbody>\n",
              "    <tr>\n",
              "      <th>0</th>\n",
              "      <td>-4</td>\n",
              "      <td>765</td>\n",
              "      <td>-3.72</td>\n",
              "      <td>26.40</td>\n",
              "      <td>30</td>\n",
              "      <td>5.15</td>\n",
              "      <td>18.66</td>\n",
              "      <td>31.06</td>\n",
              "      <td>-4.80</td>\n",
              "      <td>15.18</td>\n",
              "      <td>-5.05</td>\n",
              "      <td>-6.56</td>\n",
              "      <td>-766.22</td>\n",
              "      <td>-1.98</td>\n",
              "      <td>-4.670000</td>\n",
              "    </tr>\n",
              "    <tr>\n",
              "      <th>1</th>\n",
              "      <td>-3</td>\n",
              "      <td>3</td>\n",
              "      <td>-7.10</td>\n",
              "      <td>1.20</td>\n",
              "      <td>3</td>\n",
              "      <td>0.36</td>\n",
              "      <td>-119.34</td>\n",
              "      <td>20.00</td>\n",
              "      <td>6.39</td>\n",
              "      <td>19.92</td>\n",
              "      <td>-5.29</td>\n",
              "      <td>0.32</td>\n",
              "      <td>-524.22</td>\n",
              "      <td>2.12</td>\n",
              "      <td>0.463974</td>\n",
              "    </tr>\n",
              "    <tr>\n",
              "      <th>2</th>\n",
              "      <td>-4</td>\n",
              "      <td>735</td>\n",
              "      <td>-1.70</td>\n",
              "      <td>14.50</td>\n",
              "      <td>30</td>\n",
              "      <td>6.50</td>\n",
              "      <td>183.66</td>\n",
              "      <td>37.36</td>\n",
              "      <td>-11.88</td>\n",
              "      <td>11.22</td>\n",
              "      <td>-7.79</td>\n",
              "      <td>-9.64</td>\n",
              "      <td>-776.22</td>\n",
              "      <td>-3.88</td>\n",
              "      <td>-6.570000</td>\n",
              "    </tr>\n",
              "    <tr>\n",
              "      <th>3</th>\n",
              "      <td>-14</td>\n",
              "      <td>90</td>\n",
              "      <td>-2.55</td>\n",
              "      <td>13.30</td>\n",
              "      <td>30</td>\n",
              "      <td>7.95</td>\n",
              "      <td>-236.34</td>\n",
              "      <td>32.06</td>\n",
              "      <td>-3.09</td>\n",
              "      <td>15.86</td>\n",
              "      <td>-4.33</td>\n",
              "      <td>-8.76</td>\n",
              "      <td>-916.22</td>\n",
              "      <td>-3.41</td>\n",
              "      <td>0.463974</td>\n",
              "    </tr>\n",
              "    <tr>\n",
              "      <th>4</th>\n",
              "      <td>-1</td>\n",
              "      <td>174</td>\n",
              "      <td>-7.63</td>\n",
              "      <td>3.74</td>\n",
              "      <td>3</td>\n",
              "      <td>0.94</td>\n",
              "      <td>-143.34</td>\n",
              "      <td>19.58</td>\n",
              "      <td>11.67</td>\n",
              "      <td>19.62</td>\n",
              "      <td>-7.63</td>\n",
              "      <td>1.12</td>\n",
              "      <td>-506.22</td>\n",
              "      <td>3.08</td>\n",
              "      <td>0.463974</td>\n",
              "    </tr>\n",
              "    <tr>\n",
              "      <th>...</th>\n",
              "      <td>...</td>\n",
              "      <td>...</td>\n",
              "      <td>...</td>\n",
              "      <td>...</td>\n",
              "      <td>...</td>\n",
              "      <td>...</td>\n",
              "      <td>...</td>\n",
              "      <td>...</td>\n",
              "      <td>...</td>\n",
              "      <td>...</td>\n",
              "      <td>...</td>\n",
              "      <td>...</td>\n",
              "      <td>...</td>\n",
              "      <td>...</td>\n",
              "      <td>...</td>\n",
              "    </tr>\n",
              "    <tr>\n",
              "      <th>1495</th>\n",
              "      <td>-3</td>\n",
              "      <td>81</td>\n",
              "      <td>-7.20</td>\n",
              "      <td>2.60</td>\n",
              "      <td>3</td>\n",
              "      <td>0.97</td>\n",
              "      <td>-125.34</td>\n",
              "      <td>19.32</td>\n",
              "      <td>4.80</td>\n",
              "      <td>19.44</td>\n",
              "      <td>-6.93</td>\n",
              "      <td>0.10</td>\n",
              "      <td>-498.22</td>\n",
              "      <td>1.22</td>\n",
              "      <td>0.463974</td>\n",
              "    </tr>\n",
              "    <tr>\n",
              "      <th>1496</th>\n",
              "      <td>1</td>\n",
              "      <td>57</td>\n",
              "      <td>-6.95</td>\n",
              "      <td>2.88</td>\n",
              "      <td>3</td>\n",
              "      <td>0.04</td>\n",
              "      <td>-65.34</td>\n",
              "      <td>20.64</td>\n",
              "      <td>6.87</td>\n",
              "      <td>19.74</td>\n",
              "      <td>-7.63</td>\n",
              "      <td>-0.34</td>\n",
              "      <td>-480.22</td>\n",
              "      <td>2.03</td>\n",
              "      <td>0.463974</td>\n",
              "    </tr>\n",
              "    <tr>\n",
              "      <th>1497</th>\n",
              "      <td>-1</td>\n",
              "      <td>63</td>\n",
              "      <td>-6.93</td>\n",
              "      <td>1.30</td>\n",
              "      <td>3</td>\n",
              "      <td>0.66</td>\n",
              "      <td>-125.34</td>\n",
              "      <td>20.06</td>\n",
              "      <td>4.50</td>\n",
              "      <td>22.68</td>\n",
              "      <td>-5.60</td>\n",
              "      <td>7.82</td>\n",
              "      <td>-518.22</td>\n",
              "      <td>2.28</td>\n",
              "      <td>-7.340000</td>\n",
              "    </tr>\n",
              "    <tr>\n",
              "      <th>1498</th>\n",
              "      <td>-14</td>\n",
              "      <td>75</td>\n",
              "      <td>-3.16</td>\n",
              "      <td>12.90</td>\n",
              "      <td>30</td>\n",
              "      <td>7.40</td>\n",
              "      <td>-221.34</td>\n",
              "      <td>32.56</td>\n",
              "      <td>-6.60</td>\n",
              "      <td>22.30</td>\n",
              "      <td>-4.03</td>\n",
              "      <td>-7.50</td>\n",
              "      <td>-546.22</td>\n",
              "      <td>-3.40</td>\n",
              "      <td>-8.810000</td>\n",
              "    </tr>\n",
              "    <tr>\n",
              "      <th>1499</th>\n",
              "      <td>-19</td>\n",
              "      <td>285</td>\n",
              "      <td>-5.77</td>\n",
              "      <td>10.00</td>\n",
              "      <td>30</td>\n",
              "      <td>7.60</td>\n",
              "      <td>-116.34</td>\n",
              "      <td>31.76</td>\n",
              "      <td>-9.81</td>\n",
              "      <td>10.44</td>\n",
              "      <td>-4.80</td>\n",
              "      <td>-9.24</td>\n",
              "      <td>-756.22</td>\n",
              "      <td>-0.44</td>\n",
              "      <td>-8.260000</td>\n",
              "    </tr>\n",
              "  </tbody>\n",
              "</table>\n",
              "<p>1500 rows × 15 columns</p>\n",
              "</div>"
            ],
            "text/plain": [
              "      F1   F2    F3     F4  F5    F6  ...    F10   F11   F12     F13   F14       F15\n",
              "0     -4  765 -3.72  26.40  30  5.15  ...  15.18 -5.05 -6.56 -766.22 -1.98 -4.670000\n",
              "1     -3    3 -7.10   1.20   3  0.36  ...  19.92 -5.29  0.32 -524.22  2.12  0.463974\n",
              "2     -4  735 -1.70  14.50  30  6.50  ...  11.22 -7.79 -9.64 -776.22 -3.88 -6.570000\n",
              "3    -14   90 -2.55  13.30  30  7.95  ...  15.86 -4.33 -8.76 -916.22 -3.41  0.463974\n",
              "4     -1  174 -7.63   3.74   3  0.94  ...  19.62 -7.63  1.12 -506.22  3.08  0.463974\n",
              "...   ..  ...   ...    ...  ..   ...  ...    ...   ...   ...     ...   ...       ...\n",
              "1495  -3   81 -7.20   2.60   3  0.97  ...  19.44 -6.93  0.10 -498.22  1.22  0.463974\n",
              "1496   1   57 -6.95   2.88   3  0.04  ...  19.74 -7.63 -0.34 -480.22  2.03  0.463974\n",
              "1497  -1   63 -6.93   1.30   3  0.66  ...  22.68 -5.60  7.82 -518.22  2.28 -7.340000\n",
              "1498 -14   75 -3.16  12.90  30  7.40  ...  22.30 -4.03 -7.50 -546.22 -3.40 -8.810000\n",
              "1499 -19  285 -5.77  10.00  30  7.60  ...  10.44 -4.80 -9.24 -756.22 -0.44 -8.260000\n",
              "\n",
              "[1500 rows x 15 columns]"
            ]
          },
          "metadata": {
            "tags": []
          },
          "execution_count": 293
        }
      ]
    },
    {
      "cell_type": "code",
      "metadata": {
        "colab": {
          "base_uri": "https://localhost:8080/",
          "height": 205
        },
        "id": "NLojM9uUep52",
        "outputId": "527a62d7-469b-4403-c8dc-15cc08ba55a3"
      },
      "source": [
        "# split data into features and target\n",
        "# Normalizing features\n",
        "Input=test_dataset.iloc[:,0:15]\n",
        "x = Input.values #returns a numpy array\n",
        "min_max_scaler = preprocessing.MinMaxScaler()\n",
        "x_scaled = min_max_scaler.fit_transform(x)\n",
        "test_dataset = pd.DataFrame(x_scaled)\n",
        "test_dataset.head()"
      ],
      "execution_count": 294,
      "outputs": [
        {
          "output_type": "execute_result",
          "data": {
            "text/html": [
              "<div>\n",
              "<style scoped>\n",
              "    .dataframe tbody tr th:only-of-type {\n",
              "        vertical-align: middle;\n",
              "    }\n",
              "\n",
              "    .dataframe tbody tr th {\n",
              "        vertical-align: top;\n",
              "    }\n",
              "\n",
              "    .dataframe thead th {\n",
              "        text-align: right;\n",
              "    }\n",
              "</style>\n",
              "<table border=\"1\" class=\"dataframe\">\n",
              "  <thead>\n",
              "    <tr style=\"text-align: right;\">\n",
              "      <th></th>\n",
              "      <th>0</th>\n",
              "      <th>1</th>\n",
              "      <th>2</th>\n",
              "      <th>3</th>\n",
              "      <th>4</th>\n",
              "      <th>5</th>\n",
              "      <th>6</th>\n",
              "      <th>7</th>\n",
              "      <th>8</th>\n",
              "      <th>9</th>\n",
              "      <th>10</th>\n",
              "      <th>11</th>\n",
              "      <th>12</th>\n",
              "      <th>13</th>\n",
              "      <th>14</th>\n",
              "    </tr>\n",
              "  </thead>\n",
              "  <tbody>\n",
              "    <tr>\n",
              "      <th>0</th>\n",
              "      <td>0.769231</td>\n",
              "      <td>0.6375</td>\n",
              "      <td>0.795525</td>\n",
              "      <td>0.837992</td>\n",
              "      <td>1.0</td>\n",
              "      <td>0.500000</td>\n",
              "      <td>0.690476</td>\n",
              "      <td>0.589303</td>\n",
              "      <td>0.237489</td>\n",
              "      <td>0.333616</td>\n",
              "      <td>0.829001</td>\n",
              "      <td>0.204327</td>\n",
              "      <td>0.340</td>\n",
              "      <td>0.238443</td>\n",
              "      <td>0.533444</td>\n",
              "    </tr>\n",
              "    <tr>\n",
              "      <th>1</th>\n",
              "      <td>0.807692</td>\n",
              "      <td>0.0025</td>\n",
              "      <td>0.534722</td>\n",
              "      <td>0.037484</td>\n",
              "      <td>0.1</td>\n",
              "      <td>0.034951</td>\n",
              "      <td>0.471429</td>\n",
              "      <td>0.061127</td>\n",
              "      <td>0.553859</td>\n",
              "      <td>0.534293</td>\n",
              "      <td>0.796170</td>\n",
              "      <td>0.479968</td>\n",
              "      <td>0.824</td>\n",
              "      <td>0.570965</td>\n",
              "      <td>1.000000</td>\n",
              "    </tr>\n",
              "    <tr>\n",
              "      <th>2</th>\n",
              "      <td>0.769231</td>\n",
              "      <td>0.6125</td>\n",
              "      <td>0.951389</td>\n",
              "      <td>0.459975</td>\n",
              "      <td>1.0</td>\n",
              "      <td>0.631068</td>\n",
              "      <td>0.952381</td>\n",
              "      <td>0.890162</td>\n",
              "      <td>0.037320</td>\n",
              "      <td>0.165961</td>\n",
              "      <td>0.454172</td>\n",
              "      <td>0.080929</td>\n",
              "      <td>0.320</td>\n",
              "      <td>0.084347</td>\n",
              "      <td>0.360779</td>\n",
              "    </tr>\n",
              "    <tr>\n",
              "      <th>3</th>\n",
              "      <td>0.384615</td>\n",
              "      <td>0.0750</td>\n",
              "      <td>0.885802</td>\n",
              "      <td>0.421855</td>\n",
              "      <td>1.0</td>\n",
              "      <td>0.771845</td>\n",
              "      <td>0.285714</td>\n",
              "      <td>0.637058</td>\n",
              "      <td>0.285835</td>\n",
              "      <td>0.362405</td>\n",
              "      <td>0.927497</td>\n",
              "      <td>0.116186</td>\n",
              "      <td>0.040</td>\n",
              "      <td>0.122466</td>\n",
              "      <td>1.000000</td>\n",
              "    </tr>\n",
              "    <tr>\n",
              "      <th>4</th>\n",
              "      <td>0.884615</td>\n",
              "      <td>0.1450</td>\n",
              "      <td>0.493827</td>\n",
              "      <td>0.118170</td>\n",
              "      <td>0.1</td>\n",
              "      <td>0.091262</td>\n",
              "      <td>0.433333</td>\n",
              "      <td>0.041070</td>\n",
              "      <td>0.703138</td>\n",
              "      <td>0.521592</td>\n",
              "      <td>0.476060</td>\n",
              "      <td>0.512019</td>\n",
              "      <td>0.860</td>\n",
              "      <td>0.648824</td>\n",
              "      <td>1.000000</td>\n",
              "    </tr>\n",
              "  </tbody>\n",
              "</table>\n",
              "</div>"
            ],
            "text/plain": [
              "         0       1         2         3   ...        11     12        13        14\n",
              "0  0.769231  0.6375  0.795525  0.837992  ...  0.204327  0.340  0.238443  0.533444\n",
              "1  0.807692  0.0025  0.534722  0.037484  ...  0.479968  0.824  0.570965  1.000000\n",
              "2  0.769231  0.6125  0.951389  0.459975  ...  0.080929  0.320  0.084347  0.360779\n",
              "3  0.384615  0.0750  0.885802  0.421855  ...  0.116186  0.040  0.122466  1.000000\n",
              "4  0.884615  0.1450  0.493827  0.118170  ...  0.512019  0.860  0.648824  1.000000\n",
              "\n",
              "[5 rows x 15 columns]"
            ]
          },
          "metadata": {
            "tags": []
          },
          "execution_count": 294
        }
      ]
    },
    {
      "cell_type": "code",
      "metadata": {
        "id": "P6JwkiY5ey2K"
      },
      "source": [
        "# predicting test data\n",
        "test_pred=svclassifier.predict(test_dataset)"
      ],
      "execution_count": 295,
      "outputs": []
    },
    {
      "cell_type": "code",
      "metadata": {
        "id": "ovG3xW-8e2R2"
      },
      "source": [
        "test_dataset_final=pd.read_csv(\"https://raw.githubusercontent.com/arunravi8595/CE802/main/CE802_P2_Test.csv\")\n",
        "target = pd.DataFrame({'Class': test_pred[:]})"
      ],
      "execution_count": 296,
      "outputs": []
    },
    {
      "cell_type": "code",
      "metadata": {
        "id": "cYPtnK3bfGkT"
      },
      "source": [
        "test_dataset_final['Class']=target"
      ],
      "execution_count": 297,
      "outputs": []
    },
    {
      "cell_type": "code",
      "metadata": {
        "id": "SAyrZGyNfG3a"
      },
      "source": [
        "cleanup = {\"Class\": {0:False,1: True}}\n",
        "test_dataset_final.replace(cleanup, inplace=True)"
      ],
      "execution_count": 298,
      "outputs": []
    },
    {
      "cell_type": "code",
      "metadata": {
        "id": "sKKeMsNufJRT"
      },
      "source": [
        "# Write into csv\n",
        "test_dataset_final.to_csv('CE802_P2_Test.csv', encoding='utf-8', index=False)"
      ],
      "execution_count": 299,
      "outputs": []
    },
    {
      "cell_type": "code",
      "metadata": {
        "id": "0RmrrpO3fNOi"
      },
      "source": [
        ""
      ],
      "execution_count": 299,
      "outputs": []
    }
  ]
}